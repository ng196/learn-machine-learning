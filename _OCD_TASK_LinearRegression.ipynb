{
 "cells": [
  {
   "cell_type": "code",
   "execution_count": null,
   "id": "bf99ea7d-f763-4e3e-8003-fdc4432328e0",
   "metadata": {
    "scrolled": true
   },
   "outputs": [],
   "source": [
    "#import required libraries \n",
    "\n",
    "import sys\n",
    "import numpy as np\n",
    "import pandas as pd\n",
    "import sklearn\n",
    "import scipy\n",
    "\n",
    "print(\"Python version:\", sys.version)\n",
    "print(\"NumPy version:\", np.__version__)\n",
    "print(\"Pandas version:\", pd.__version__)\n",
    "print(\"Scikit-learn version:\", sklearn.__version__)\n",
    "print(\"SciPy version:\", scipy.__version__)"
   ]
  },
  {
   "cell_type": "code",
   "execution_count": 7,
   "id": "5c1664da-f528-47d2-9a97-1706a6b08778",
   "metadata": {},
   "outputs": [],
   "source": [
    "import pandas as pd"
   ]
  },
  {
   "cell_type": "code",
   "execution_count": null,
   "id": "94fb5768-4e56-4d28-b528-76421e152d7e",
   "metadata": {},
   "outputs": [],
   "source": [
    "%pip install matplotlib\n"
   ]
  },
  {
   "cell_type": "code",
   "execution_count": null,
   "id": "9e566951-902d-466c-83eb-e0aa6c7697c6",
   "metadata": {},
   "outputs": [],
   "source": [
    "\n",
    "# we'll use iris dataset , loading dataset from pandas\n",
    "\n",
    "url = \"https://raw.githubusercontent.com/uiuc-cse/data-fa14/gh-pages/data/iris.csv\"\n",
    "df= pd.read_csv(url)\n",
    "\n",
    "print(df.head(10))  # Display first 5 rows\n"
   ]
  },
  {
   "cell_type": "code",
   "execution_count": null,
   "id": "02637721-de68-4d32-af5a-70676064d50b",
   "metadata": {},
   "outputs": [],
   "source": [
    "# since linear regression works with 2 variable , one dependent(Y) and one independent (X) then we will use only two attribute \n",
    "import matplotlib.pyplot as plt\n",
    "\n",
    "X = df['sepal_length']\n",
    "Y = df['petal_length']\n",
    "\n",
    "plt.scatter(X,Y)\n",
    "plt.xlabel('sepal_length')\n",
    "plt.ylabel('petal_length')\n",
    "\n",
    "#we'have plotted the 2D graph between X and Y using matplotlib.pyplot"
   ]
  },
  {
   "cell_type": "code",
   "execution_count": null,
   "id": "8f909332-bb5e-4351-bf13-d11e6565575a",
   "metadata": {},
   "outputs": [],
   "source": [
    "# now we'll divide this data of 150 parameters into two parts , training and testing dataset\n",
    "\n",
    "from sklearn.model_selection import train_test_split\n",
    "\n",
    "# 20% data is used as testing data \n",
    "\n",
    "x_train , x_test , y_train , y_test = train_test_split(X , Y , test_size = 0.2 , random_state = 21 )\n",
    "\n",
    "print(x_train)\n",
    "\n",
    "# using numpy to change the array to a 2D one \n",
    "\n",
    "x_train = np.array(x_train).reshape(-1,1)\n",
    "\n",
    "x_train"
   ]
  },
  {
   "cell_type": "code",
   "execution_count": 17,
   "id": "5c3ec138-e78d-406b-a6dd-5a740287329c",
   "metadata": {},
   "outputs": [],
   "source": [
    "# now loading and training the model \n",
    "from sklearn.linear_model import LinearRegression \n",
    "lr = LinearRegression()"
   ]
  },
  {
   "cell_type": "code",
   "execution_count": null,
   "id": "37001400-cab9-4a8e-99e4-c6e6593c8722",
   "metadata": {},
   "outputs": [],
   "source": [
    "#training the model \n",
    "lr.fit(x_train , y_train)"
   ]
  },
  {
   "cell_type": "code",
   "execution_count": null,
   "id": "d6e0c2c2-c1a2-4319-b3ab-d83832e530f4",
   "metadata": {},
   "outputs": [],
   "source": [
    "#use model.predict(input) to predict the output , and c and m are the intercept and coef(slope) of the equation \n",
    "\n",
    "c = lr.intercept_\n",
    "print(c)\n",
    "\n",
    "m = lr.coef_\n",
    "print(m)"
   ]
  },
  {
   "cell_type": "code",
   "execution_count": null,
   "id": "12fefcb5-a81f-4bf8-9e5e-5f99d094e1ee",
   "metadata": {},
   "outputs": [],
   "source": [
    "y_predict_train = m*x_train + c\n",
    "y_predict_train1 = lr.predict(x_train)\n",
    "\n",
    "print(y_predict_train.flatten())\n",
    "print()\n",
    "print(y_predict_train1)\n"
   ]
  },
  {
   "cell_type": "code",
   "execution_count": null,
   "id": "08d20340-5aec-4724-a2c7-8916227bea32",
   "metadata": {},
   "outputs": [],
   "source": [
    "#both value's are same , thar means the model is successfully trained \n",
    "\n",
    "plt.scatter(x_train , y_train)\n",
    "plt.plot(x_train , y_predict_train , color = 'red')\n",
    "print()\n",
    "\n",
    "# red line is the predicted line "
   ]
  },
  {
   "cell_type": "code",
   "execution_count": null,
   "id": "7c911a30-40e4-4c66-9311-7596b58de1a0",
   "metadata": {},
   "outputs": [],
   "source": [
    "plt.scatter(x_test , y_test)\n",
    "x_test = np.array(x_test).reshape(-1,1)\n",
    "y_predict_test = lr.predict(x_test)\n",
    "plt.plot(x_test , y_predict_test , color = 'Blue')\n",
    "y_predict_test1 = x_test * m + c \n",
    "plt.plot(x_test , y_predict_test1 , color = 'Black')\n",
    "print(lr.predict([[5.5]]))\n",
    "\n",
    "# the graph shows the plot between the testing data and this is consistant with the output , with [3.139-] value being the predicted value \n",
    "# of Y for input {{5.5}} "
   ]
  }
 ],
 "metadata": {
  "kernelspec": {
   "display_name": "Python [conda env:base] *",
   "language": "python",
   "name": "conda-base-py"
  },
  "language_info": {
   "codemirror_mode": {
    "name": "ipython",
    "version": 3
   },
   "file_extension": ".py",
   "mimetype": "text/x-python",
   "name": "python",
   "nbconvert_exporter": "python",
   "pygments_lexer": "ipython3",
   "version": "3.12.8"
  }
 },
 "nbformat": 4,
 "nbformat_minor": 5
}
